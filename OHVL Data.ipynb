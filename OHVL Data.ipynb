{
 "cells": [
  {
   "cell_type": "code",
   "execution_count": 1,
   "metadata": {},
   "outputs": [],
   "source": [
    "import boto3\n",
    "import gzip\n",
    "from io import BytesIO\n",
    "import pandas as pd\n",
    "from io import StringIO\n",
    "import matplotlib.pyplot as plt\n",
    "s3 = boto3.resource('s3')"
   ]
  },
  {
   "cell_type": "code",
   "execution_count": 2,
   "metadata": {},
   "outputs": [],
   "source": [
    "BUCKET_NAME='cryptocompare-ohlcv-hourly'\n",
    "my_bucket = s3.Bucket(BUCKET_NAME)\n",
    "\n",
    "# Get list of all files in bucket and iterate through filenames \n",
    "Base=[]\n",
    "Quote=[]\n",
    "Exchange=[]\n",
    "File_Name=[]\n",
    "for my_bucket_object in my_bucket.objects.all():\n",
    "    # Download file and do something with data...\n",
    "    file_name = my_bucket_object.key\n",
    "    if file_name.endswith('.csv.gz'):\n",
    "        File_Name.append(file_name)\n",
    "        file_info_arr = file_name.split('-')\n",
    "        base_currency = file_info_arr[0]\n",
    "        quote_currency = file_info_arr[1]\n",
    "        exchange = file_info_arr[2]\n",
    "        Base.append(base_currency)\n",
    "        Quote.append(quote_currency)\n",
    "        Exchange.append(exchange)\n",
    "#        print('Filename:{}\\nBase Currency: {}\\nQuoteCurrency: {}\\nExchange:{}\\n'\n",
    "#              .format(file_name, base_currency, quote_currency, exchange))"
   ]
  },
  {
   "cell_type": "code",
   "execution_count": 321,
   "metadata": {},
   "outputs": [],
   "source": [
    "#File_Name"
   ]
  },
  {
   "cell_type": "markdown",
   "metadata": {},
   "source": [
    "### 1. history invested coin list\n",
    "Set the intersection coin list which are both history invested and in data file as ```intersect_list```, which include 91 coins."
   ]
  },
  {
   "cell_type": "code",
   "execution_count": 5,
   "metadata": {},
   "outputs": [
    {
     "name": "stdout",
     "output_type": "stream",
     "text": [
      "6 coins invested in history but not in file:  ['BKBT', 'WIN2', 'BTT2', 'IOT', 'ATOM2', 'RDN']\n"
     ]
    }
   ],
   "source": [
    "with open(\"97_coins_list.txt\", 'r') as f:\n",
    "    coins = [line.rstrip('\\n') for line in f]\n",
    "Base=list(set(Base))\n",
    "intersect_num=len(list(set(Base)&set(coins)))\n",
    "intersect_list=list(set(Base)&set(coins))\n",
    "print(len(coins)-intersect_num,\"coins invested in history but not in file: \",list(set(coins)-set(intersect_list)))"
   ]
  },
  {
   "cell_type": "markdown",
   "metadata": {},
   "source": [
    "### 2. Exchange List\n",
    "Found that we could found data file for all 91 coins, so we do not need refer other quote type. We save the name of datafile into ```Include_File```, so that we could iterate those name one by one to get data from boto3."
   ]
  },
  {
   "cell_type": "code",
   "execution_count": 6,
   "metadata": {},
   "outputs": [
    {
     "name": "stdout",
     "output_type": "stream",
     "text": [
      "coins which are not quoted in BTC:  {'BTC', 'JST', 'BCV', 'XMX', 'USD', 'SEELE', 'USDT'}\n"
     ]
    }
   ],
   "source": [
    "Exchange_Priority=['HuobiPro','Binance','Kucoin','BitTrex', 'Bitfinex','Kraken', 'Poloniex']\n",
    "Include_File=[]\n",
    "Found_List=[]\n",
    "Quote=list(set(Quote))\n",
    "for coin in intersect_list:\n",
    "    for exchange in Exchange_Priority:\n",
    "        tmp=coin+\"-\"+'BTC'+\"-\"+exchange+\"-hr.csv.gz\"\n",
    "        if tmp in File_Name:\n",
    "            Include_File.append(tmp)\n",
    "            Found_List.append(coin)\n",
    "            break\n",
    "len(Include_File)\n",
    "len(Found_List)\n",
    "print(\"coins which are not quoted in BTC: \",set(intersect_list)-set(Found_List))"
   ]
  },
  {
   "cell_type": "code",
   "execution_count": 322,
   "metadata": {},
   "outputs": [],
   "source": [
    "#Include_File"
   ]
  },
  {
   "cell_type": "markdown",
   "metadata": {},
   "source": [
    "### 3. Get data from boto3"
   ]
  },
  {
   "cell_type": "code",
   "execution_count": 8,
   "metadata": {},
   "outputs": [],
   "source": [
    "# Get file from s3 as binary, unzip, and read contents\n",
    "def read_s3_file(bucketname, filename):\n",
    "    obj = s3.Object(bucketname, filename)\n",
    "    body = obj.get()['Body'].read()\n",
    "    gzipfile = BytesIO(body)\n",
    "    gzipfile = gzip.GzipFile(fileobj=gzipfile)\n",
    "    content = gzipfile.read()\n",
    "    return content"
   ]
  },
  {
   "cell_type": "markdown",
   "metadata": {},
   "source": [
    "### Set Bitcoin as standard"
   ]
  },
  {
   "cell_type": "code",
   "execution_count": 49,
   "metadata": {
    "scrolled": true
   },
   "outputs": [
    {
     "name": "stdout",
     "output_type": "stream",
     "text": [
      "22011\n",
      "COTI-BTC-Binance-hr.csv.gz\n",
      "4002 22012\n",
      "AST-BTC-HuobiPro-hr.csv.gz\n",
      "6003 22018\n",
      "REP-BTC-Binance-hr.csv.gz\n",
      "20010 22034\n",
      "CTXC-BTC-HuobiPro-hr.csv.gz\n",
      "6003 22050\n",
      "EDO-BTC-Binance-hr.csv.gz\n",
      "6003 22072\n",
      "BTT-BTC-HuobiPro-hr.csv.gz\n",
      "6003 22120\n",
      "AERGO-BTC-Kucoin-hr.csv.gz\n",
      "6003 22196\n",
      "OGN-BTC-Binance-hr.csv.gz\n",
      "4002 22212\n",
      "DACC-BTC-Kucoin-hr.csv.gz\n",
      "6003 22380\n",
      "SKM-BTC-HuobiPro-hr.csv.gz\n",
      "6003 22668\n",
      "BTM-BTC-HuobiPro-hr.csv.gz\n",
      "22011 23264\n",
      "PIVX-BTC-Binance-hr.csv.gz\n",
      "6003 24368\n",
      "CND-BTC-Binance-hr.csv.gz\n",
      "6003 26576\n",
      "STORJ-BTC-HuobiPro-hr.csv.gz\n",
      "22011 30840\n",
      "USE-BTC-Kucoin-hr.csv.gz\n",
      "4002 39033\n",
      "LOKI-BTC-Kucoin-hr.csv.gz\n",
      "6003 55737\n",
      "GNT-BTC-HuobiPro-hr.csv.gz\n",
      "22011 88841\n",
      "DASH-BTC-HuobiPro-hr.csv.gz\n",
      "22011 155049\n",
      "BLZ-BTC-HuobiPro-hr.csv.gz\n",
      "6003 287145\n",
      "RLC-BTC-Binance-hr.csv.gz\n",
      "6003 549929\n"
     ]
    }
   ],
   "source": [
    "file='BTC-USDT-HuobiPro-hr.csv.gz'\n",
    "DF=read_s3_file(BUCKET_NAME,file)\n",
    "DF=pd.read_csv(StringIO(str(DF,'utf-8')))\n",
    "new=pd.DataFrame(DF[[\"timestamp\",\"close\"]])\n",
    "Data=new.rename(columns={\"close\":file.split(\"-\")[0]})\n",
    "Data1=Data\n",
    "print(Data.shape[0])\n",
    "\n",
    "for file in Include_File[:5]:\n",
    "    DF=read_s3_file(BUCKET_NAME,file)\n",
    "    DF=pd.read_csv(StringIO(str(DF,'utf-8')))\n",
    "    new=pd.DataFrame(DF[[\"timestamp\",\"close\"]])\n",
    "    print(file)\n",
    "    new=new.rename(columns={\"close\":file.split(\"-\")[0]})\n",
    "    Data=pd.merge(Data,new,on=\"timestamp\",how=\"left\")\n",
    "    print(new.shape[0],Data.shape[0])"
   ]
  },
  {
   "cell_type": "code",
   "execution_count": 222,
   "metadata": {},
   "outputs": [
    {
     "data": {
      "text/plain": [
       "Index(['timestamp', 'time', 'close', 'high', 'low', 'open', 'volumefrom',\n",
       "       'volumeto'],\n",
       "      dtype='object')"
      ]
     },
     "execution_count": 222,
     "metadata": {},
     "output_type": "execute_result"
    }
   ],
   "source": [
    "file='BTC-USDT-HuobiPro-hr.csv.gz'\n",
    "day=90\n",
    "DF=read_s3_file(BUCKET_NAME,file)\n",
    "DF=pd.read_csv(StringIO(str(DF,'utf-8')))\n",
    "#new=pd.DataFrame(DF[[\"timestamp\",\"close\"]]).iloc[-day*24:]\n",
    "#Data=new.rename(columns={\"close\":file.split(\"-\")[0]})\n",
    "#Data1=Data\n",
    "#print(Data.shape[0])\n",
    "DF.columns"
   ]
  },
  {
   "cell_type": "code",
   "execution_count": 199,
   "metadata": {},
   "outputs": [],
   "source": [
    "def GetDateFile(file,datatype):\n",
    "    DF=read_s3_file(BUCKET_NAME,file)\n",
    "    DF=pd.read_csv(StringIO(str(DF,'utf-8')))\n",
    "    \n",
    "    new=pd.DataFrame(DF[[\"timestamp\",datatype]])\n",
    "    Data=new.rename(columns={\"close\":file.split(\"-\")[0]})\n",
    "    #print(Data.shape[0])\n",
    "    return Data\n",
    "\n",
    "def ChangeStrtoDatetime(Data,from_date,to_date): #change string type date to datetime type date in datafile\n",
    "    Data[\"timestamp\"]=[datetime.datetime.strptime(dd,\"%Y-%m-%d %H:%M:%S\") for dd in Data[\"timestamp\"]]\n",
    "    #Data[\"timestamp\"]=[int(datetime.datetime.timestamp(datetime.datetime.strptime(dd,\"%Y-%m-%d %H:%M:%S\"))) for dd in Data[\"timestamp\"])\n",
    "    Data[\"timestamp\"]=[int(datetime.datetime.timestamp(dd)) for dd in Data[\"timestamp\"]]\n",
    "    Data=Data.loc[Data[\"timestamp\"]>=from_date]\n",
    "    Data=Data.loc[Data[\"timestamp\"]<=to_date]\n",
    "    return(Data)"
   ]
  },
  {
   "cell_type": "markdown",
   "metadata": {},
   "source": [
    "### Get pre-30 days data and concat"
   ]
  },
  {
   "cell_type": "code",
   "execution_count": 123,
   "metadata": {},
   "outputs": [
    {
     "name": "stdout",
     "output_type": "stream",
     "text": [
      "6003\n"
     ]
    }
   ],
   "source": [
    "import datetime"
   ]
  },
  {
   "cell_type": "code",
   "execution_count": 114,
   "metadata": {},
   "outputs": [
    {
     "data": {
      "text/plain": [
       "1589587200"
      ]
     },
     "execution_count": 114,
     "metadata": {},
     "output_type": "execute_result"
    }
   ],
   "source": [
    "# convert string type to datetime\n",
    "to_date=Data[\"timestamp\"].iloc[-1]\n",
    "to_date\n",
    "datetime_to_date= datetime.datetime.strptime(to_date,\"%Y-%m-%d %H:%M:%S\")\n",
    "datetime_from_date=datetime_to_date+datetime.timedelta(days=-30)\n",
    "from_date=int(datetime.datetime.timestamp(datetime_from_date))\n",
    "to_date=int(datetime.datetime.timestamp(datetime_to_date))"
   ]
  },
  {
   "cell_type": "code",
   "execution_count": 299,
   "metadata": {},
   "outputs": [
    {
     "data": {
      "text/plain": [
       "85"
      ]
     },
     "execution_count": 299,
     "metadata": {},
     "output_type": "execute_result"
    }
   ],
   "source": [
    "COLUMN=[file.split(\"-\")[0] for file in Include_File]\n",
    "#Include_File[0].split(\"-\")[0]\n",
    "COLUMN.insert(0,\"BTC\")\n",
    "len(COLUMN)"
   ]
  },
  {
   "cell_type": "code",
   "execution_count": 241,
   "metadata": {},
   "outputs": [],
   "source": [
    "def GetPanelData(datatype,day):\n",
    "    # get datefile with whole period\n",
    "    file='BTC-USDT-HuobiPro-hr.csv.gz'\n",
    "    Data=GetDateFile(file,datatype)\n",
    "    # get int type from_date and to_date ()\n",
    "    to_date=Data[\"timestamp\"].iloc[-1]\n",
    "    datetime_to_date= datetime.datetime.strptime(to_date,\"%Y-%m-%d %H:%M:%S\")\n",
    "    datetime_from_date=datetime_to_date+datetime.timedelta(days=-day)\n",
    "    from_date=int(datetime.datetime.timestamp(datetime_from_date))\n",
    "    to_date=int(datetime.datetime.timestamp(datetime_to_date))\n",
    "\n",
    "    # change string date type to int date type\n",
    "    Data=ChangeStrtoDatetime(Data,from_date,to_date)\n",
    "    Data.index=Data[\"timestamp\"]\n",
    "    del Data[\"timestamp\"]\n",
    "    DF=Data\n",
    "    index=DF.index\n",
    "    DF.reset_index(drop=True,inplace=True)\n",
    "\n",
    "    for file in Include_File:\n",
    "        Data=GetDateFile(file,datatype)\n",
    "        Data=ChangeStrtoDatetime(Data,from_date,to_date)\n",
    "        Data.index=Data[\"timestamp\"]\n",
    "        del Data[\"timestamp\"]\n",
    "        Data.reset_index(drop=True, inplace=True)\n",
    "        DF=pd.concat([DF, Data], axis=1)\n",
    "    DF.index=[datetime.datetime.utcfromtimestamp(dd).strftime('%Y-%m-%d %H:%M:%S') for dd in index]\n",
    "    return DF"
   ]
  },
  {
   "cell_type": "code",
   "execution_count": 242,
   "metadata": {},
   "outputs": [
    {
     "name": "stdout",
     "output_type": "stream",
     "text": [
      "close\n",
      "high\n",
      "low\n",
      "open\n",
      "volumefrom\n",
      "volumeto\n"
     ]
    }
   ],
   "source": [
    "varlist=['close', 'high', 'low', 'open', 'volumefrom',\n",
    "       'volumeto']\n",
    "mydict={}\n",
    "for datatype in varlist:\n",
    "    print(datatype)\n",
    "    day=90\n",
    "    vars()[datatype]=GetPanelData(datatype,day)"
   ]
  },
  {
   "cell_type": "code",
   "execution_count": 300,
   "metadata": {},
   "outputs": [],
   "source": [
    "for datatype in varlist:\n",
    "    vars()[datatype].columns=COLUMN"
   ]
  },
  {
   "cell_type": "code",
   "execution_count": 302,
   "metadata": {},
   "outputs": [],
   "source": [
    "OPEN=open.copy()\n",
    "HIGH=high.copy()\n",
    "LOW=low.copy()\n",
    "CLOSE=close.copy()\n",
    "VOLUMEFROM=volumefrom.copy()\n",
    "VOLUMETO=volumeto.copy()"
   ]
  },
  {
   "cell_type": "markdown",
   "metadata": {},
   "source": [
    "### Construct Features"
   ]
  },
  {
   "cell_type": "code",
   "execution_count": 303,
   "metadata": {},
   "outputs": [],
   "source": [
    "# factor_1: open\n",
    "factor_1=open.shift(1)\n",
    "\n",
    "# factor_2: high\n",
    "factor_2=high.shift(1)\n",
    "\n",
    "# factor_3: low\n",
    "factor_3=low.shift(1)\n",
    "\n",
    "# factor_4: close\n",
    "factor_4=close.shift(1)\n",
    "\n",
    "# factor_5: high-low\n",
    "factor_5=high.sub(low).shift(1)"
   ]
  },
  {
   "cell_type": "code",
   "execution_count": 311,
   "metadata": {},
   "outputs": [],
   "source": [
    "# factor_6： # of Trade\n",
    "factor_6=volumefrom.add(volumeto).div(2).shift(1)\n",
    "\n",
    "# factor_7: US Dollar Volume\n",
    "\n",
    "# factor_8: cryptocurrency Volume"
   ]
  },
  {
   "cell_type": "code",
   "execution_count": null,
   "metadata": {},
   "outputs": [],
   "source": [
    "# factor_9: # of Trades\n",
    "\n",
    "# factor_10:\n",
    "\n",
    "# factor_11: \n"
   ]
  },
  {
   "cell_type": "code",
   "execution_count": 336,
   "metadata": {},
   "outputs": [],
   "source": [
    "# factor_12: returns_1\n",
    "factor_12=close.diff(1).div(close.shift(1)).shift(1)\n",
    "\n",
    "# factor_13: returns_2\n",
    "factor_13=close.diff(1).div(close.shift(1)).shift(2)\n",
    "\n",
    "# factor_14: returns_3\n",
    "factor_14=close.diff(1).div(close.shift(1)).shift(3)\n",
    "\n",
    "# factor_15: returns_4\n",
    "factor_15=close.diff(1).div(close.shift(1)).shift(4)\n",
    "\n",
    "# factor_16: returns_5\n",
    "factor_16=close.diff(1).div(close.shift(1)).shift(5)\n",
    "\n",
    "# factor_17: Moving Average(MA)\n",
    "factor_17=close.diff(1).div(close.shift(1)).rolling(window=5).mean()"
   ]
  },
  {
   "cell_type": "code",
   "execution_count": 320,
   "metadata": {},
   "outputs": [],
   "source": [
    "# factor_18: Correlation MA\n",
    "\n",
    "\n",
    "# factor_18: Correlation Close\n",
    "#close.rolling(window=1).corr()\n",
    "\n",
    "# factor_20: sum of return_3\n",
    "factor_20=close.diff(1).div(close.shift(1)).rolling(window=3).sum()\n",
    "\n",
    "# factor_21: sum of return_5\n",
    "factor_21=close.diff(1).div(close.shift(1)).rolling(window=5).sum()\n",
    "\n",
    "# factor_22: sum of return_5-sum of return_3\n",
    "factor_22=factor_21.sub(factor_20)\n",
    "\n",
    "# factor_23: Relative Strength Index: RSI_6\n",
    "\n",
    "# factor_24: Relative Strength Index: RSI_7\n"
   ]
  },
  {
   "cell_type": "code",
   "execution_count": 337,
   "metadata": {},
   "outputs": [],
   "source": [
    "target=factor_12=close.diff(1).div(close.shift(1))"
   ]
  },
  {
   "cell_type": "code",
   "execution_count": 338,
   "metadata": {},
   "outputs": [],
   "source": [
    "factor_1.to_excel(r'factors/factor_1.xlsx')\n",
    "factor_2.to_excel(r'factors/factor_2.xlsx')"
   ]
  },
  {
   "cell_type": "code",
   "execution_count": 344,
   "metadata": {},
   "outputs": [],
   "source": [
    "factor_3.to_excel(r'factors/factor_3.xlsx')\n",
    "factor_4.to_excel(r'factors/factor_4.xlsx')"
   ]
  },
  {
   "cell_type": "code",
   "execution_count": 343,
   "metadata": {},
   "outputs": [],
   "source": [
    "target.to_excel(r\"factors/target.xlsx\")"
   ]
  },
  {
   "cell_type": "code",
   "execution_count": 342,
   "metadata": {},
   "outputs": [
    {
     "data": {
      "text/html": [
       "<div>\n",
       "<style scoped>\n",
       "    .dataframe tbody tr th:only-of-type {\n",
       "        vertical-align: middle;\n",
       "    }\n",
       "\n",
       "    .dataframe tbody tr th {\n",
       "        vertical-align: top;\n",
       "    }\n",
       "\n",
       "    .dataframe thead th {\n",
       "        text-align: right;\n",
       "    }\n",
       "</style>\n",
       "<table border=\"1\" class=\"dataframe\">\n",
       "  <thead>\n",
       "    <tr style=\"text-align: right;\">\n",
       "      <th></th>\n",
       "      <th>BTC</th>\n",
       "      <th>COTI</th>\n",
       "      <th>AST</th>\n",
       "      <th>REP</th>\n",
       "      <th>CTXC</th>\n",
       "      <th>EDO</th>\n",
       "      <th>BTT</th>\n",
       "      <th>AERGO</th>\n",
       "      <th>OGN</th>\n",
       "      <th>DACC</th>\n",
       "      <th>...</th>\n",
       "      <th>TRX</th>\n",
       "      <th>BRD</th>\n",
       "      <th>CELR</th>\n",
       "      <th>PPT</th>\n",
       "      <th>ADA</th>\n",
       "      <th>ETH</th>\n",
       "      <th>ARN</th>\n",
       "      <th>MTC</th>\n",
       "      <th>LSK</th>\n",
       "      <th>R</th>\n",
       "    </tr>\n",
       "  </thead>\n",
       "  <tbody>\n",
       "    <tr>\n",
       "      <th>2020-03-17 00:00:00</th>\n",
       "      <td>NaN</td>\n",
       "      <td>NaN</td>\n",
       "      <td>NaN</td>\n",
       "      <td>NaN</td>\n",
       "      <td>NaN</td>\n",
       "      <td>NaN</td>\n",
       "      <td>NaN</td>\n",
       "      <td>NaN</td>\n",
       "      <td>NaN</td>\n",
       "      <td>NaN</td>\n",
       "      <td>...</td>\n",
       "      <td>NaN</td>\n",
       "      <td>NaN</td>\n",
       "      <td>NaN</td>\n",
       "      <td>NaN</td>\n",
       "      <td>NaN</td>\n",
       "      <td>NaN</td>\n",
       "      <td>NaN</td>\n",
       "      <td>NaN</td>\n",
       "      <td>NaN</td>\n",
       "      <td>NaN</td>\n",
       "    </tr>\n",
       "    <tr>\n",
       "      <th>2020-03-17 01:00:00</th>\n",
       "      <td>5027.01</td>\n",
       "      <td>0.000009</td>\n",
       "      <td>0.000002</td>\n",
       "      <td>0.000009</td>\n",
       "      <td>0.000007</td>\n",
       "      <td>0.000009</td>\n",
       "      <td>4.000000e-08</td>\n",
       "      <td>0.000004</td>\n",
       "      <td>0.000009</td>\n",
       "      <td>2.000000e-09</td>\n",
       "      <td>...</td>\n",
       "      <td>0.000002</td>\n",
       "      <td>0.000009</td>\n",
       "      <td>0.000009</td>\n",
       "      <td>0.000009</td>\n",
       "      <td>0.000005</td>\n",
       "      <td>0.02208</td>\n",
       "      <td>0.000009</td>\n",
       "      <td>0.000002</td>\n",
       "      <td>0.000160</td>\n",
       "      <td>0.0</td>\n",
       "    </tr>\n",
       "    <tr>\n",
       "      <th>2020-03-17 02:00:00</th>\n",
       "      <td>5070.25</td>\n",
       "      <td>0.000009</td>\n",
       "      <td>0.000002</td>\n",
       "      <td>0.000009</td>\n",
       "      <td>0.000007</td>\n",
       "      <td>0.000009</td>\n",
       "      <td>4.000000e-08</td>\n",
       "      <td>0.000004</td>\n",
       "      <td>0.000009</td>\n",
       "      <td>2.000000e-09</td>\n",
       "      <td>...</td>\n",
       "      <td>0.000002</td>\n",
       "      <td>0.000009</td>\n",
       "      <td>0.000009</td>\n",
       "      <td>0.000009</td>\n",
       "      <td>0.000005</td>\n",
       "      <td>0.02209</td>\n",
       "      <td>0.000009</td>\n",
       "      <td>0.000002</td>\n",
       "      <td>0.000164</td>\n",
       "      <td>0.0</td>\n",
       "    </tr>\n",
       "    <tr>\n",
       "      <th>2020-03-17 03:00:00</th>\n",
       "      <td>5187.90</td>\n",
       "      <td>0.000009</td>\n",
       "      <td>0.000002</td>\n",
       "      <td>0.000009</td>\n",
       "      <td>0.000007</td>\n",
       "      <td>0.000009</td>\n",
       "      <td>4.000000e-08</td>\n",
       "      <td>0.000004</td>\n",
       "      <td>0.000009</td>\n",
       "      <td>2.000000e-09</td>\n",
       "      <td>...</td>\n",
       "      <td>0.000002</td>\n",
       "      <td>0.000009</td>\n",
       "      <td>0.000009</td>\n",
       "      <td>0.000009</td>\n",
       "      <td>0.000005</td>\n",
       "      <td>0.02225</td>\n",
       "      <td>0.000009</td>\n",
       "      <td>0.000002</td>\n",
       "      <td>0.000166</td>\n",
       "      <td>0.0</td>\n",
       "    </tr>\n",
       "    <tr>\n",
       "      <th>2020-03-17 04:00:00</th>\n",
       "      <td>5278.43</td>\n",
       "      <td>0.000009</td>\n",
       "      <td>0.000002</td>\n",
       "      <td>0.000009</td>\n",
       "      <td>0.000008</td>\n",
       "      <td>0.000009</td>\n",
       "      <td>4.000000e-08</td>\n",
       "      <td>0.000004</td>\n",
       "      <td>0.000009</td>\n",
       "      <td>2.000000e-09</td>\n",
       "      <td>...</td>\n",
       "      <td>0.000002</td>\n",
       "      <td>0.000009</td>\n",
       "      <td>0.000009</td>\n",
       "      <td>0.000009</td>\n",
       "      <td>0.000005</td>\n",
       "      <td>0.02210</td>\n",
       "      <td>0.000009</td>\n",
       "      <td>0.000002</td>\n",
       "      <td>0.000167</td>\n",
       "      <td>0.0</td>\n",
       "    </tr>\n",
       "    <tr>\n",
       "      <th>...</th>\n",
       "      <td>...</td>\n",
       "      <td>...</td>\n",
       "      <td>...</td>\n",
       "      <td>...</td>\n",
       "      <td>...</td>\n",
       "      <td>...</td>\n",
       "      <td>...</td>\n",
       "      <td>...</td>\n",
       "      <td>...</td>\n",
       "      <td>...</td>\n",
       "      <td>...</td>\n",
       "      <td>...</td>\n",
       "      <td>...</td>\n",
       "      <td>...</td>\n",
       "      <td>...</td>\n",
       "      <td>...</td>\n",
       "      <td>...</td>\n",
       "      <td>...</td>\n",
       "      <td>...</td>\n",
       "      <td>...</td>\n",
       "      <td>...</td>\n",
       "    </tr>\n",
       "    <tr>\n",
       "      <th>2020-06-14 20:00:00</th>\n",
       "      <td>9384.84</td>\n",
       "      <td>NaN</td>\n",
       "      <td>0.000007</td>\n",
       "      <td>NaN</td>\n",
       "      <td>0.000011</td>\n",
       "      <td>NaN</td>\n",
       "      <td>3.000000e-08</td>\n",
       "      <td>NaN</td>\n",
       "      <td>NaN</td>\n",
       "      <td>NaN</td>\n",
       "      <td>...</td>\n",
       "      <td>0.000002</td>\n",
       "      <td>NaN</td>\n",
       "      <td>NaN</td>\n",
       "      <td>NaN</td>\n",
       "      <td>0.000008</td>\n",
       "      <td>0.02502</td>\n",
       "      <td>NaN</td>\n",
       "      <td>NaN</td>\n",
       "      <td>0.000129</td>\n",
       "      <td>NaN</td>\n",
       "    </tr>\n",
       "    <tr>\n",
       "      <th>2020-06-14 21:00:00</th>\n",
       "      <td>9395.41</td>\n",
       "      <td>NaN</td>\n",
       "      <td>0.000007</td>\n",
       "      <td>NaN</td>\n",
       "      <td>0.000011</td>\n",
       "      <td>NaN</td>\n",
       "      <td>3.000000e-08</td>\n",
       "      <td>NaN</td>\n",
       "      <td>NaN</td>\n",
       "      <td>NaN</td>\n",
       "      <td>...</td>\n",
       "      <td>0.000002</td>\n",
       "      <td>NaN</td>\n",
       "      <td>NaN</td>\n",
       "      <td>NaN</td>\n",
       "      <td>0.000008</td>\n",
       "      <td>0.02500</td>\n",
       "      <td>NaN</td>\n",
       "      <td>NaN</td>\n",
       "      <td>0.000129</td>\n",
       "      <td>NaN</td>\n",
       "    </tr>\n",
       "    <tr>\n",
       "      <th>2020-06-14 22:00:00</th>\n",
       "      <td>9382.01</td>\n",
       "      <td>NaN</td>\n",
       "      <td>0.000007</td>\n",
       "      <td>NaN</td>\n",
       "      <td>0.000011</td>\n",
       "      <td>NaN</td>\n",
       "      <td>3.000000e-08</td>\n",
       "      <td>NaN</td>\n",
       "      <td>NaN</td>\n",
       "      <td>NaN</td>\n",
       "      <td>...</td>\n",
       "      <td>0.000002</td>\n",
       "      <td>NaN</td>\n",
       "      <td>NaN</td>\n",
       "      <td>NaN</td>\n",
       "      <td>0.000008</td>\n",
       "      <td>0.02495</td>\n",
       "      <td>NaN</td>\n",
       "      <td>NaN</td>\n",
       "      <td>0.000129</td>\n",
       "      <td>NaN</td>\n",
       "    </tr>\n",
       "    <tr>\n",
       "      <th>2020-06-14 23:00:00</th>\n",
       "      <td>9346.83</td>\n",
       "      <td>NaN</td>\n",
       "      <td>0.000007</td>\n",
       "      <td>NaN</td>\n",
       "      <td>0.000011</td>\n",
       "      <td>NaN</td>\n",
       "      <td>3.000000e-08</td>\n",
       "      <td>NaN</td>\n",
       "      <td>NaN</td>\n",
       "      <td>NaN</td>\n",
       "      <td>...</td>\n",
       "      <td>0.000002</td>\n",
       "      <td>NaN</td>\n",
       "      <td>NaN</td>\n",
       "      <td>NaN</td>\n",
       "      <td>0.000008</td>\n",
       "      <td>0.02493</td>\n",
       "      <td>NaN</td>\n",
       "      <td>NaN</td>\n",
       "      <td>0.000129</td>\n",
       "      <td>NaN</td>\n",
       "    </tr>\n",
       "    <tr>\n",
       "      <th>2020-06-15 00:00:00</th>\n",
       "      <td>9387.37</td>\n",
       "      <td>NaN</td>\n",
       "      <td>0.000007</td>\n",
       "      <td>NaN</td>\n",
       "      <td>0.000011</td>\n",
       "      <td>NaN</td>\n",
       "      <td>3.000000e-08</td>\n",
       "      <td>NaN</td>\n",
       "      <td>NaN</td>\n",
       "      <td>NaN</td>\n",
       "      <td>...</td>\n",
       "      <td>0.000002</td>\n",
       "      <td>NaN</td>\n",
       "      <td>NaN</td>\n",
       "      <td>NaN</td>\n",
       "      <td>0.000008</td>\n",
       "      <td>0.02489</td>\n",
       "      <td>NaN</td>\n",
       "      <td>NaN</td>\n",
       "      <td>0.000128</td>\n",
       "      <td>NaN</td>\n",
       "    </tr>\n",
       "  </tbody>\n",
       "</table>\n",
       "<p>2162 rows × 85 columns</p>\n",
       "</div>"
      ],
      "text/plain": [
       "                         BTC      COTI       AST       REP      CTXC  \\\n",
       "2020-03-17 00:00:00      NaN       NaN       NaN       NaN       NaN   \n",
       "2020-03-17 01:00:00  5027.01  0.000009  0.000002  0.000009  0.000007   \n",
       "2020-03-17 02:00:00  5070.25  0.000009  0.000002  0.000009  0.000007   \n",
       "2020-03-17 03:00:00  5187.90  0.000009  0.000002  0.000009  0.000007   \n",
       "2020-03-17 04:00:00  5278.43  0.000009  0.000002  0.000009  0.000008   \n",
       "...                      ...       ...       ...       ...       ...   \n",
       "2020-06-14 20:00:00  9384.84       NaN  0.000007       NaN  0.000011   \n",
       "2020-06-14 21:00:00  9395.41       NaN  0.000007       NaN  0.000011   \n",
       "2020-06-14 22:00:00  9382.01       NaN  0.000007       NaN  0.000011   \n",
       "2020-06-14 23:00:00  9346.83       NaN  0.000007       NaN  0.000011   \n",
       "2020-06-15 00:00:00  9387.37       NaN  0.000007       NaN  0.000011   \n",
       "\n",
       "                          EDO           BTT     AERGO       OGN          DACC  \\\n",
       "2020-03-17 00:00:00       NaN           NaN       NaN       NaN           NaN   \n",
       "2020-03-17 01:00:00  0.000009  4.000000e-08  0.000004  0.000009  2.000000e-09   \n",
       "2020-03-17 02:00:00  0.000009  4.000000e-08  0.000004  0.000009  2.000000e-09   \n",
       "2020-03-17 03:00:00  0.000009  4.000000e-08  0.000004  0.000009  2.000000e-09   \n",
       "2020-03-17 04:00:00  0.000009  4.000000e-08  0.000004  0.000009  2.000000e-09   \n",
       "...                       ...           ...       ...       ...           ...   \n",
       "2020-06-14 20:00:00       NaN  3.000000e-08       NaN       NaN           NaN   \n",
       "2020-06-14 21:00:00       NaN  3.000000e-08       NaN       NaN           NaN   \n",
       "2020-06-14 22:00:00       NaN  3.000000e-08       NaN       NaN           NaN   \n",
       "2020-06-14 23:00:00       NaN  3.000000e-08       NaN       NaN           NaN   \n",
       "2020-06-15 00:00:00       NaN  3.000000e-08       NaN       NaN           NaN   \n",
       "\n",
       "                     ...       TRX       BRD      CELR       PPT       ADA  \\\n",
       "2020-03-17 00:00:00  ...       NaN       NaN       NaN       NaN       NaN   \n",
       "2020-03-17 01:00:00  ...  0.000002  0.000009  0.000009  0.000009  0.000005   \n",
       "2020-03-17 02:00:00  ...  0.000002  0.000009  0.000009  0.000009  0.000005   \n",
       "2020-03-17 03:00:00  ...  0.000002  0.000009  0.000009  0.000009  0.000005   \n",
       "2020-03-17 04:00:00  ...  0.000002  0.000009  0.000009  0.000009  0.000005   \n",
       "...                  ...       ...       ...       ...       ...       ...   \n",
       "2020-06-14 20:00:00  ...  0.000002       NaN       NaN       NaN  0.000008   \n",
       "2020-06-14 21:00:00  ...  0.000002       NaN       NaN       NaN  0.000008   \n",
       "2020-06-14 22:00:00  ...  0.000002       NaN       NaN       NaN  0.000008   \n",
       "2020-06-14 23:00:00  ...  0.000002       NaN       NaN       NaN  0.000008   \n",
       "2020-06-15 00:00:00  ...  0.000002       NaN       NaN       NaN  0.000008   \n",
       "\n",
       "                         ETH       ARN       MTC       LSK    R  \n",
       "2020-03-17 00:00:00      NaN       NaN       NaN       NaN  NaN  \n",
       "2020-03-17 01:00:00  0.02208  0.000009  0.000002  0.000160  0.0  \n",
       "2020-03-17 02:00:00  0.02209  0.000009  0.000002  0.000164  0.0  \n",
       "2020-03-17 03:00:00  0.02225  0.000009  0.000002  0.000166  0.0  \n",
       "2020-03-17 04:00:00  0.02210  0.000009  0.000002  0.000167  0.0  \n",
       "...                      ...       ...       ...       ...  ...  \n",
       "2020-06-14 20:00:00  0.02502       NaN       NaN  0.000129  NaN  \n",
       "2020-06-14 21:00:00  0.02500       NaN       NaN  0.000129  NaN  \n",
       "2020-06-14 22:00:00  0.02495       NaN       NaN  0.000129  NaN  \n",
       "2020-06-14 23:00:00  0.02493       NaN       NaN  0.000129  NaN  \n",
       "2020-06-15 00:00:00  0.02489       NaN       NaN  0.000128  NaN  \n",
       "\n",
       "[2162 rows x 85 columns]"
      ]
     },
     "execution_count": 342,
     "metadata": {},
     "output_type": "execute_result"
    }
   ],
   "source": [
    "new=pd.read_excel(r'factors/factor_1.xlsx',index_col=0)\n",
    "new"
   ]
  },
  {
   "cell_type": "markdown",
   "metadata": {},
   "source": [
    "# Put into DataRobot"
   ]
  },
  {
   "cell_type": "code",
   "execution_count": 323,
   "metadata": {},
   "outputs": [],
   "source": [
    "import datetime\n",
    "import matplotlib.pyplot as plt\n",
    "import matplotlib.ticker as mtick\n",
    "import pandas as pd\n",
    "import datarobot as dr\n",
    "import numpy as np\n",
    "from datarobot.enums import AUTOPILOT_MODE\n",
    "from datarobot.errors import ClientError"
   ]
  },
  {
   "cell_type": "code",
   "execution_count": 324,
   "metadata": {},
   "outputs": [
    {
     "data": {
      "text/plain": [
       "<datarobot.rest.RESTClientObject at 0x19518b71b70>"
      ]
     },
     "execution_count": 324,
     "metadata": {},
     "output_type": "execute_result"
    }
   ],
   "source": [
    "dr.Client(token='NWVkZmU1MDQ3OTI4NTYwOTJlNDRiYTRlOjV4Qyt0bVRhOWttOXZCa24yRlBvU1JhQnI4blZ3c3hUVTJQdTVYV2ZpcGc9', endpoint='https://app.datarobot.com/api/v2')"
   ]
  },
  {
   "cell_type": "code",
   "execution_count": null,
   "metadata": {},
   "outputs": [],
   "source": [
    "url = 'https://s3.amazonaws.com/datarobot_public_datasets/10k_diabetes.xlsx'\n",
    "project = dr.Project.create(url, project_name='10K Advanced Modeling')\n",
    "print('Project ID: {}'.format(project.id))"
   ]
  },
  {
   "cell_type": "code",
   "execution_count": 339,
   "metadata": {},
   "outputs": [
    {
     "name": "stdout",
     "output_type": "stream",
     "text": [
      "Project ID: 5f15cbfbab9af3052018cf68\n"
     ]
    }
   ],
   "source": [
    "filename='factors/factor_1.xlsx'\n",
    "project_name=\"Feature Selection\"\n",
    "project = dr.Project.create(sourcedata=filename, project_name=project_name)\n",
    "print('Project ID: {}'.format(project.id))"
   ]
  },
  {
   "cell_type": "code",
   "execution_count": 341,
   "metadata": {},
   "outputs": [
    {
     "data": {
      "text/plain": [
       "Project(Feature Selection)"
      ]
     },
     "execution_count": 341,
     "metadata": {},
     "output_type": "execute_result"
    }
   ],
   "source": [
    "# Increase the worker count to your maximum available the project runs faster.\n",
    "project.set_worker_count(-1)"
   ]
  },
  {
   "cell_type": "code",
   "execution_count": null,
   "metadata": {},
   "outputs": [],
   "source": [
    "target_feature_name = 'readmitted'\n",
    "project.set_target(target_feature_name, mode=AUTOPILOT_MODE.QUICK)"
   ]
  }
 ],
 "metadata": {
  "kernelspec": {
   "display_name": "Python 3",
   "language": "python",
   "name": "python3"
  },
  "language_info": {
   "codemirror_mode": {
    "name": "ipython",
    "version": 3
   },
   "file_extension": ".py",
   "mimetype": "text/x-python",
   "name": "python",
   "nbconvert_exporter": "python",
   "pygments_lexer": "ipython3",
   "version": "3.7.3"
  }
 },
 "nbformat": 4,
 "nbformat_minor": 4
}
